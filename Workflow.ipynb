{
 "cells": [
  {
   "cell_type": "code",
   "execution_count": 140,
   "id": "0c92d8a5",
   "metadata": {},
   "outputs": [],
   "source": [
    "import pandas as pd\n",
    "from sklearn.model_selection import train_test_split\n",
    "\n",
    "from sklearn.tree import DecisionTreeClassifier\n",
    "from sklearn.feature_extraction.text import CountVectorizer\n",
    "from sklearn import metrics"
   ]
  },
  {
   "cell_type": "markdown",
   "id": "6686d93c",
   "metadata": {},
   "source": [
    "## The data has already been preprocessed"
   ]
  },
  {
   "cell_type": "code",
   "execution_count": 5,
   "id": "4be4f2cb",
   "metadata": {},
   "outputs": [
    {
     "name": "stdout",
     "output_type": "stream",
     "text": [
      "Collecting prefect\n",
      "  Obtaining dependency information for prefect from https://files.pythonhosted.org/packages/38/2d/d627115fc33df492567319a238cd7e534b479aabbc82b8921aa4e6695580/prefect-2.16.7-py3-none-any.whl.metadata\n",
      "  Using cached prefect-2.16.7-py3-none-any.whl.metadata (10 kB)\n",
      "Requirement already satisfied: aiosqlite>=0.17.0 in c:\\users\\harsh\\anaconda3\\lib\\site-packages (from prefect) (0.18.0)\n",
      "Requirement already satisfied: alembic<2.0.0,>=1.7.5 in c:\\users\\harsh\\anaconda3\\lib\\site-packages (from prefect) (1.13.1)\n",
      "Collecting apprise<2.0.0,>=1.1.0 (from prefect)\n",
      "  Obtaining dependency information for apprise<2.0.0,>=1.1.0 from https://files.pythonhosted.org/packages/5a/ee/1668723154b73c6dd286e5e57ee358d64d87fb5707c7f52ab282f4e754f8/apprise-1.7.4-py3-none-any.whl.metadata\n",
      "  Using cached apprise-1.7.4-py3-none-any.whl.metadata (44 kB)\n",
      "Collecting asyncpg>=0.23 (from prefect)\n",
      "  Obtaining dependency information for asyncpg>=0.23 from https://files.pythonhosted.org/packages/f2/39/f7e755b5d5aa59d8385c08be58726aceffc1da9360041031554d664c783f/asyncpg-0.29.0-cp311-cp311-win_amd64.whl.metadata\n",
      "  Using cached asyncpg-0.29.0-cp311-cp311-win_amd64.whl.metadata (4.5 kB)\n",
      "Requirement already satisfied: click<8.2,>=8.0 in c:\\users\\harsh\\anaconda3\\lib\\site-packages (from prefect) (8.1.7)\n",
      "Requirement already satisfied: cryptography>=36.0.1 in c:\\users\\harsh\\anaconda3\\lib\\site-packages (from prefect) (41.0.3)\n",
      "Collecting dateparser<2.0.0,>=1.1.1 (from prefect)\n",
      "  Obtaining dependency information for dateparser<2.0.0,>=1.1.1 from https://files.pythonhosted.org/packages/a4/29/db12aa4dda81580be1999824a689bd52aa40061fc12c9ccdc3feab5ea718/dateparser-1.2.0-py2.py3-none-any.whl.metadata\n",
      "  Using cached dateparser-1.2.0-py2.py3-none-any.whl.metadata (28 kB)\n",
      "Collecting docker<7.0,>=4.0 (from prefect)\n",
      "  Obtaining dependency information for docker<7.0,>=4.0 from https://files.pythonhosted.org/packages/db/be/3032490fa33b36ddc8c4b1da3252c6f974e7133f1a50de00c6b85cca203a/docker-6.1.3-py3-none-any.whl.metadata\n",
      "  Using cached docker-6.1.3-py3-none-any.whl.metadata (3.5 kB)\n",
      "Collecting graphviz>=0.20.1 (from prefect)\n",
      "  Obtaining dependency information for graphviz>=0.20.1 from https://files.pythonhosted.org/packages/00/be/d59db2d1d52697c6adc9eacaf50e8965b6345cc143f671e1ed068818d5cf/graphviz-0.20.3-py3-none-any.whl.metadata\n",
      "  Using cached graphviz-0.20.3-py3-none-any.whl.metadata (12 kB)\n",
      "Collecting griffe>=0.20.0 (from prefect)\n",
      "  Obtaining dependency information for griffe>=0.20.0 from https://files.pythonhosted.org/packages/c4/59/a13ea5d6d991c0c9861a09b268e6ead054f3d316a74136aa86874ace7bbd/griffe-0.42.1-py3-none-any.whl.metadata\n",
      "  Using cached griffe-0.42.1-py3-none-any.whl.metadata (6.2 kB)\n",
      "Requirement already satisfied: jinja2<4.0.0,>=3.0.0 in c:\\users\\harsh\\anaconda3\\lib\\site-packages (from prefect) (3.1.2)\n",
      "Collecting kubernetes<30.0.0,>=24.2.0 (from prefect)\n",
      "  Obtaining dependency information for kubernetes<30.0.0,>=24.2.0 from https://files.pythonhosted.org/packages/6f/34/164e57fec8a9693d7e6ae2d1a345482020ea9e9b32eab95a90bb3eaea83d/kubernetes-29.0.0-py2.py3-none-any.whl.metadata\n",
      "  Using cached kubernetes-29.0.0-py2.py3-none-any.whl.metadata (1.5 kB)\n",
      "Requirement already satisfied: pytz<2025,>=2021.1 in c:\\users\\harsh\\anaconda3\\lib\\site-packages (from prefect) (2023.3.post1)\n",
      "Collecting readchar<5.0.0,>=4.0.0 (from prefect)\n",
      "  Obtaining dependency information for readchar<5.0.0,>=4.0.0 from https://files.pythonhosted.org/packages/86/db/aca9e5e6a53a499d61cbd78b3594d700f1e48a50ab6970a92a4d1251f8db/readchar-4.0.6-py3-none-any.whl.metadata\n",
      "  Using cached readchar-4.0.6-py3-none-any.whl.metadata (6.2 kB)\n",
      "Requirement already satisfied: sqlalchemy[asyncio]!=1.4.33,<3.0.0,>=1.4.22 in c:\\users\\harsh\\anaconda3\\lib\\site-packages (from prefect) (2.0.21)\n",
      "Collecting typer>=0.4.2 (from prefect)\n",
      "  Obtaining dependency information for typer>=0.4.2 from https://files.pythonhosted.org/packages/cc/14/6c702faa2b1105a8d74ae3f5c6045d4fb88e85bb9dd219f4d8ec10a479d4/typer-0.11.1-py3-none-any.whl.metadata\n",
      "  Using cached typer-0.11.1-py3-none-any.whl.metadata (13 kB)\n",
      "Collecting anyio<4.0.0,>=3.7.1 (from prefect)\n",
      "  Obtaining dependency information for anyio<4.0.0,>=3.7.1 from https://files.pythonhosted.org/packages/19/24/44299477fe7dcc9cb58d0a57d5a7588d6af2ff403fdd2d47a246c91a3246/anyio-3.7.1-py3-none-any.whl.metadata\n",
      "  Using cached anyio-3.7.1-py3-none-any.whl.metadata (4.7 kB)\n",
      "Collecting asgi-lifespan<3.0,>=1.0 (from prefect)\n",
      "  Obtaining dependency information for asgi-lifespan<3.0,>=1.0 from https://files.pythonhosted.org/packages/2f/f5/c36551e93acba41a59939ae6a0fb77ddb3f2e8e8caa716410c65f7341f72/asgi_lifespan-2.1.0-py3-none-any.whl.metadata\n",
      "  Using cached asgi_lifespan-2.1.0-py3-none-any.whl.metadata (10 kB)\n",
      "Requirement already satisfied: cachetools<6.0,>=5.3 in c:\\users\\harsh\\anaconda3\\lib\\site-packages (from prefect) (5.3.2)\n",
      "Requirement already satisfied: cloudpickle<4.0,>=2.0 in c:\\users\\harsh\\anaconda3\\lib\\site-packages (from prefect) (2.2.1)\n",
      "Collecting coolname<3.0.0,>=1.0.4 (from prefect)\n",
      "  Obtaining dependency information for coolname<3.0.0,>=1.0.4 from https://files.pythonhosted.org/packages/1b/b1/5745d7523d8ce53b87779f46ef6cf5c5c342997939c2fe967e607b944e43/coolname-2.2.0-py2.py3-none-any.whl.metadata\n",
      "  Using cached coolname-2.2.0-py2.py3-none-any.whl.metadata (6.2 kB)\n",
      "Collecting croniter<3.0.0,>=1.0.12 (from prefect)\n",
      "  Obtaining dependency information for croniter<3.0.0,>=1.0.12 from https://files.pythonhosted.org/packages/75/b4/a0b97aa934f623fe2342a3c681c70b46f398e91788498802d6147f8f3ff1/croniter-2.0.3-py2.py3-none-any.whl.metadata\n",
      "  Using cached croniter-2.0.3-py2.py3-none-any.whl.metadata (25 kB)\n",
      "Requirement already satisfied: fsspec>=2022.5.0 in c:\\users\\harsh\\anaconda3\\lib\\site-packages (from prefect) (2023.4.0)\n",
      "Collecting httpcore<2.0.0,>=0.15.0 (from prefect)\n",
      "  Obtaining dependency information for httpcore<2.0.0,>=0.15.0 from https://files.pythonhosted.org/packages/78/d4/e5d7e4f2174f8a4d63c8897d79eb8fe2503f7ecc03282fee1fa2719c2704/httpcore-1.0.5-py3-none-any.whl.metadata\n",
      "  Using cached httpcore-1.0.5-py3-none-any.whl.metadata (20 kB)\n",
      "Collecting httpx[http2]!=0.23.2,>=0.23 (from prefect)\n",
      "  Obtaining dependency information for httpx[http2]!=0.23.2,>=0.23 from https://files.pythonhosted.org/packages/41/7b/ddacf6dcebb42466abd03f368782142baa82e08fc0c1f8eaa05b4bae87d5/httpx-0.27.0-py3-none-any.whl.metadata\n",
      "  Using cached httpx-0.27.0-py3-none-any.whl.metadata (7.2 kB)\n",
      "Collecting importlib-resources<6.2.0,>=6.1.3 (from prefect)\n",
      "  Obtaining dependency information for importlib-resources<6.2.0,>=6.1.3 from https://files.pythonhosted.org/packages/f3/3e/a01c6de9853a7d73672926e01966f979723386f0ba83d62e5db3cdf4c097/importlib_resources-6.1.3-py3-none-any.whl.metadata\n",
      "  Using cached importlib_resources-6.1.3-py3-none-any.whl.metadata (3.9 kB)\n",
      "Requirement already satisfied: jsonpatch<2.0,>=1.32 in c:\\users\\harsh\\anaconda3\\lib\\site-packages (from prefect) (1.32)\n",
      "Requirement already satisfied: jsonschema<5.0.0,>=3.2.0 in c:\\users\\harsh\\anaconda3\\lib\\site-packages (from prefect) (4.19.2)\n",
      "Collecting orjson<4.0,>=3.7 (from prefect)\n",
      "  Obtaining dependency information for orjson<4.0,>=3.7 from https://files.pythonhosted.org/packages/0d/7b/566fa00c023652b4a1d409a26cc4dd71bcdbea86814ba4a05ff6ac6a2c0a/orjson-3.10.0-cp311-none-win_amd64.whl.metadata\n",
      "  Using cached orjson-3.10.0-cp311-none-win_amd64.whl.metadata (50 kB)\n",
      "Requirement already satisfied: packaging<24.3,>=21.3 in c:\\users\\harsh\\anaconda3\\lib\\site-packages (from prefect) (23.1)\n",
      "Requirement already satisfied: pathspec>=0.8.0 in c:\\users\\harsh\\anaconda3\\lib\\site-packages (from prefect) (0.10.3)\n",
      "Requirement already satisfied: pydantic[email]!=2.0.0,!=2.0.1,!=2.1.0,<3.0.0,>=1.10.0 in c:\\users\\harsh\\anaconda3\\lib\\site-packages (from prefect) (1.10.12)\n",
      "Requirement already satisfied: python-dateutil<3.0.0,>=2.8.2 in c:\\users\\harsh\\anaconda3\\lib\\site-packages (from prefect) (2.8.2)\n",
      "Requirement already satisfied: python-slugify<9.0,>=5.0 in c:\\users\\harsh\\anaconda3\\lib\\site-packages (from prefect) (5.0.2)\n",
      "Requirement already satisfied: pyyaml<7.0.0,>=5.4.1 in c:\\users\\harsh\\anaconda3\\lib\\site-packages (from prefect) (6.0.1)\n",
      "Requirement already satisfied: rfc3339-validator<0.2.0,>=0.1.4 in c:\\users\\harsh\\anaconda3\\lib\\site-packages (from prefect) (0.1.4)\n",
      "Collecting rich<14.0,>=11.0 (from prefect)\n",
      "  Obtaining dependency information for rich<14.0,>=11.0 from https://files.pythonhosted.org/packages/87/67/a37f6214d0e9fe57f6ae54b2956d550ca8365857f42a1ce0392bb21d9410/rich-13.7.1-py3-none-any.whl.metadata\n",
      "  Using cached rich-13.7.1-py3-none-any.whl.metadata (18 kB)\n",
      "Requirement already satisfied: ruamel.yaml>=0.17.0 in c:\\users\\harsh\\anaconda3\\lib\\site-packages (from prefect) (0.17.21)\n",
      "Collecting sniffio<2.0.0,>=1.3.0 (from prefect)\n",
      "  Obtaining dependency information for sniffio<2.0.0,>=1.3.0 from https://files.pythonhosted.org/packages/e9/44/75a9c9421471a6c4805dbf2356f7c181a29c1879239abab1ea2cc8f38b40/sniffio-1.3.1-py3-none-any.whl.metadata\n",
      "  Using cached sniffio-1.3.1-py3-none-any.whl.metadata (3.9 kB)\n",
      "Requirement already satisfied: toml>=0.10.0 in c:\\users\\harsh\\anaconda3\\lib\\site-packages (from prefect) (0.10.2)\n",
      "Requirement already satisfied: typing-extensions<5.0.0,>=4.5.0 in c:\\users\\harsh\\anaconda3\\lib\\site-packages (from prefect) (4.7.1)\n",
      "Collecting ujson<6.0.0,>=5.8.0 (from prefect)\n",
      "  Obtaining dependency information for ujson<6.0.0,>=5.8.0 from https://files.pythonhosted.org/packages/7a/13/a3cd1fc3a1126d30b558b6235c05e2d26eeaacba4979ee2fd2b5745c136d/ujson-5.9.0-cp311-cp311-win_amd64.whl.metadata\n",
      "  Using cached ujson-5.9.0-cp311-cp311-win_amd64.whl.metadata (8.9 kB)\n",
      "Collecting uvicorn<0.29.0,>=0.14.0 (from prefect)\n",
      "  Obtaining dependency information for uvicorn<0.29.0,>=0.14.0 from https://files.pythonhosted.org/packages/6e/12/57c09286f0293e73343e95427072ec7b700324f858637887c5b7e9c687b7/uvicorn-0.28.1-py3-none-any.whl.metadata\n",
      "  Using cached uvicorn-0.28.1-py3-none-any.whl.metadata (6.3 kB)\n",
      "Collecting websockets<13.0,>=10.4 (from prefect)\n",
      "  Obtaining dependency information for websockets<13.0,>=10.4 from https://files.pythonhosted.org/packages/d1/40/6b169cd1957476374f51f4486a3e85003149e62a14e6b78a958c2222337a/websockets-12.0-cp311-cp311-win_amd64.whl.metadata\n",
      "  Using cached websockets-12.0-cp311-cp311-win_amd64.whl.metadata (6.8 kB)\n",
      "Requirement already satisfied: itsdangerous in c:\\users\\harsh\\anaconda3\\lib\\site-packages (from prefect) (2.0.1)\n",
      "Collecting python-multipart>=0.0.7 (from prefect)\n",
      "  Obtaining dependency information for python-multipart>=0.0.7 from https://files.pythonhosted.org/packages/3d/47/444768600d9e0ebc82f8e347775d24aef8f6348cf00e9fa0e81910814e6d/python_multipart-0.0.9-py3-none-any.whl.metadata\n",
      "  Using cached python_multipart-0.0.9-py3-none-any.whl.metadata (2.5 kB)\n",
      "Collecting pendulum<3.0 (from prefect)\n",
      "  Using cached pendulum-2.1.2-cp311-cp311-win_amd64.whl\n",
      "Requirement already satisfied: Mako in c:\\users\\harsh\\anaconda3\\lib\\site-packages (from alembic<2.0.0,>=1.7.5->prefect) (1.3.2)\n",
      "Requirement already satisfied: idna>=2.8 in c:\\users\\harsh\\anaconda3\\lib\\site-packages (from anyio<4.0.0,>=3.7.1->prefect) (3.4)\n",
      "Requirement already satisfied: certifi in c:\\users\\harsh\\anaconda3\\lib\\site-packages (from apprise<2.0.0,>=1.1.0->prefect) (2023.11.17)\n",
      "Requirement already satisfied: requests in c:\\users\\harsh\\anaconda3\\lib\\site-packages (from apprise<2.0.0,>=1.1.0->prefect) (2.31.0)\n",
      "Requirement already satisfied: requests-oauthlib in c:\\users\\harsh\\anaconda3\\lib\\site-packages (from apprise<2.0.0,>=1.1.0->prefect) (1.3.1)\n",
      "Requirement already satisfied: markdown in c:\\users\\harsh\\anaconda3\\lib\\site-packages (from apprise<2.0.0,>=1.1.0->prefect) (3.4.1)\n",
      "Collecting async-timeout>=4.0.3 (from asyncpg>=0.23->prefect)\n",
      "  Obtaining dependency information for async-timeout>=4.0.3 from https://files.pythonhosted.org/packages/a7/fa/e01228c2938de91d47b307831c62ab9e4001e747789d0b05baf779a6488c/async_timeout-4.0.3-py3-none-any.whl.metadata\n",
      "  Using cached async_timeout-4.0.3-py3-none-any.whl.metadata (4.2 kB)\n",
      "Requirement already satisfied: colorama in c:\\users\\harsh\\anaconda3\\lib\\site-packages (from click<8.2,>=8.0->prefect) (0.4.6)\n",
      "Requirement already satisfied: cffi>=1.12 in c:\\users\\harsh\\anaconda3\\lib\\site-packages (from cryptography>=36.0.1->prefect) (1.15.1)\n",
      "Requirement already satisfied: regex!=2019.02.19,!=2021.8.27 in c:\\users\\harsh\\anaconda3\\lib\\site-packages (from dateparser<2.0.0,>=1.1.1->prefect) (2023.10.3)\n",
      "Collecting tzlocal (from dateparser<2.0.0,>=1.1.1->prefect)\n",
      "  Obtaining dependency information for tzlocal from https://files.pythonhosted.org/packages/97/3f/c4c51c55ff8487f2e6d0e618dba917e3c3ee2caae6cf0fbb59c9b1876f2e/tzlocal-5.2-py3-none-any.whl.metadata\n",
      "  Using cached tzlocal-5.2-py3-none-any.whl.metadata (7.8 kB)\n",
      "Requirement already satisfied: urllib3>=1.26.0 in c:\\users\\harsh\\anaconda3\\lib\\site-packages (from docker<7.0,>=4.0->prefect) (1.26.18)\n",
      "Requirement already satisfied: websocket-client>=0.32.0 in c:\\users\\harsh\\anaconda3\\lib\\site-packages (from docker<7.0,>=4.0->prefect) (0.58.0)\n",
      "Requirement already satisfied: pywin32>=304 in c:\\users\\harsh\\anaconda3\\lib\\site-packages (from docker<7.0,>=4.0->prefect) (305.1)\n",
      "Collecting h11<0.15,>=0.13 (from httpcore<2.0.0,>=0.15.0->prefect)\n",
      "  Obtaining dependency information for h11<0.15,>=0.13 from https://files.pythonhosted.org/packages/95/04/ff642e65ad6b90db43e668d70ffb6736436c7ce41fcc549f4e9472234127/h11-0.14.0-py3-none-any.whl.metadata\n",
      "  Using cached h11-0.14.0-py3-none-any.whl.metadata (8.2 kB)\n",
      "Collecting h2<5,>=3 (from httpx[http2]!=0.23.2,>=0.23->prefect)\n",
      "  Obtaining dependency information for h2<5,>=3 from https://files.pythonhosted.org/packages/2a/e5/db6d438da759efbb488c4f3fbdab7764492ff3c3f953132efa6b9f0e9e53/h2-4.1.0-py3-none-any.whl.metadata\n",
      "  Using cached h2-4.1.0-py3-none-any.whl.metadata (3.6 kB)\n",
      "Requirement already satisfied: MarkupSafe>=2.0 in c:\\users\\harsh\\anaconda3\\lib\\site-packages (from jinja2<4.0.0,>=3.0.0->prefect) (2.1.1)\n",
      "Requirement already satisfied: jsonpointer>=1.9 in c:\\users\\harsh\\anaconda3\\lib\\site-packages (from jsonpatch<2.0,>=1.32->prefect) (2.1)\n",
      "Requirement already satisfied: attrs>=22.2.0 in c:\\users\\harsh\\anaconda3\\lib\\site-packages (from jsonschema<5.0.0,>=3.2.0->prefect) (23.1.0)\n",
      "Requirement already satisfied: jsonschema-specifications>=2023.03.6 in c:\\users\\harsh\\anaconda3\\lib\\site-packages (from jsonschema<5.0.0,>=3.2.0->prefect) (2023.11.2)\n",
      "Requirement already satisfied: referencing>=0.28.4 in c:\\users\\harsh\\anaconda3\\lib\\site-packages (from jsonschema<5.0.0,>=3.2.0->prefect) (0.32.0)\n",
      "Requirement already satisfied: rpds-py>=0.7.1 in c:\\users\\harsh\\anaconda3\\lib\\site-packages (from jsonschema<5.0.0,>=3.2.0->prefect) (0.10.6)\n",
      "Requirement already satisfied: six>=1.9.0 in c:\\users\\harsh\\anaconda3\\lib\\site-packages (from kubernetes<30.0.0,>=24.2.0->prefect) (1.16.0)\n",
      "Requirement already satisfied: google-auth>=1.0.1 in c:\\users\\harsh\\anaconda3\\lib\\site-packages (from kubernetes<30.0.0,>=24.2.0->prefect) (2.25.2)\n",
      "Requirement already satisfied: oauthlib>=3.2.2 in c:\\users\\harsh\\anaconda3\\lib\\site-packages (from kubernetes<30.0.0,>=24.2.0->prefect) (3.2.2)\n",
      "Collecting pytzdata>=2020.1 (from pendulum<3.0->prefect)\n",
      "  Obtaining dependency information for pytzdata>=2020.1 from https://files.pythonhosted.org/packages/e0/4f/4474bda990ee740a020cbc3eb271925ef7daa7c8444240d34ff62c8442a3/pytzdata-2020.1-py2.py3-none-any.whl.metadata\n",
      "  Using cached pytzdata-2020.1-py2.py3-none-any.whl.metadata (2.3 kB)\n",
      "Collecting email-validator>=1.0.3 (from pydantic[email]!=2.0.0,!=2.0.1,!=2.1.0,<3.0.0,>=1.10.0->prefect)\n",
      "  Obtaining dependency information for email-validator>=1.0.3 from https://files.pythonhosted.org/packages/e4/60/b02cb0f5ee0be88bd4fbfdd9cc91e43ec2dfcc47fe064e7c70587ff58a94/email_validator-2.1.1-py3-none-any.whl.metadata\n",
      "  Using cached email_validator-2.1.1-py3-none-any.whl.metadata (26 kB)\n",
      "Requirement already satisfied: text-unidecode>=1.3 in c:\\users\\harsh\\anaconda3\\lib\\site-packages (from python-slugify<9.0,>=5.0->prefect) (1.3)\n",
      "Requirement already satisfied: setuptools>=41.0 in c:\\users\\harsh\\anaconda3\\lib\\site-packages (from readchar<5.0.0,>=4.0.0->prefect) (68.0.0)\n",
      "Requirement already satisfied: markdown-it-py>=2.2.0 in c:\\users\\harsh\\anaconda3\\lib\\site-packages (from rich<14.0,>=11.0->prefect) (2.2.0)\n",
      "Requirement already satisfied: pygments<3.0.0,>=2.13.0 in c:\\users\\harsh\\anaconda3\\lib\\site-packages (from rich<14.0,>=11.0->prefect) (2.15.1)\n",
      "Requirement already satisfied: greenlet!=0.4.17 in c:\\users\\harsh\\anaconda3\\lib\\site-packages (from sqlalchemy[asyncio]!=1.4.33,<3.0.0,>=1.4.22->prefect) (2.0.1)\n",
      "Requirement already satisfied: pycparser in c:\\users\\harsh\\anaconda3\\lib\\site-packages (from cffi>=1.12->cryptography>=36.0.1->prefect) (2.21)\n",
      "Collecting dnspython>=2.0.0 (from email-validator>=1.0.3->pydantic[email]!=2.0.0,!=2.0.1,!=2.1.0,<3.0.0,>=1.10.0->prefect)\n",
      "  Obtaining dependency information for dnspython>=2.0.0 from https://files.pythonhosted.org/packages/87/a1/8c5287991ddb8d3e4662f71356d9656d91ab3a36618c3dd11b280df0d255/dnspython-2.6.1-py3-none-any.whl.metadata\n",
      "  Using cached dnspython-2.6.1-py3-none-any.whl.metadata (5.8 kB)\n",
      "Requirement already satisfied: pyasn1-modules>=0.2.1 in c:\\users\\harsh\\anaconda3\\lib\\site-packages (from google-auth>=1.0.1->kubernetes<30.0.0,>=24.2.0->prefect) (0.2.8)\n",
      "Requirement already satisfied: rsa<5,>=3.1.4 in c:\\users\\harsh\\anaconda3\\lib\\site-packages (from google-auth>=1.0.1->kubernetes<30.0.0,>=24.2.0->prefect) (4.9)\n",
      "Collecting hyperframe<7,>=6.0 (from h2<5,>=3->httpx[http2]!=0.23.2,>=0.23->prefect)\n",
      "  Obtaining dependency information for hyperframe<7,>=6.0 from https://files.pythonhosted.org/packages/d7/de/85a784bcc4a3779d1753a7ec2dee5de90e18c7bcf402e71b51fcf150b129/hyperframe-6.0.1-py3-none-any.whl.metadata\n",
      "  Using cached hyperframe-6.0.1-py3-none-any.whl.metadata (2.7 kB)\n",
      "Collecting hpack<5,>=4.0 (from h2<5,>=3->httpx[http2]!=0.23.2,>=0.23->prefect)\n",
      "  Obtaining dependency information for hpack<5,>=4.0 from https://files.pythonhosted.org/packages/d5/34/e8b383f35b77c402d28563d2b8f83159319b509bc5f760b15d60b0abf165/hpack-4.0.0-py3-none-any.whl.metadata\n",
      "  Using cached hpack-4.0.0-py3-none-any.whl.metadata (2.5 kB)\n",
      "Requirement already satisfied: mdurl~=0.1 in c:\\users\\harsh\\anaconda3\\lib\\site-packages (from markdown-it-py>=2.2.0->rich<14.0,>=11.0->prefect) (0.1.0)\n",
      "Requirement already satisfied: charset-normalizer<4,>=2 in c:\\users\\harsh\\anaconda3\\lib\\site-packages (from requests->apprise<2.0.0,>=1.1.0->prefect) (2.0.4)\n",
      "Requirement already satisfied: tzdata in c:\\users\\harsh\\anaconda3\\lib\\site-packages (from tzlocal->dateparser<2.0.0,>=1.1.1->prefect) (2023.3)\n",
      "Requirement already satisfied: pyasn1<0.5.0,>=0.4.6 in c:\\users\\harsh\\anaconda3\\lib\\site-packages (from pyasn1-modules>=0.2.1->google-auth>=1.0.1->kubernetes<30.0.0,>=24.2.0->prefect) (0.4.8)\n",
      "Using cached prefect-2.16.7-py3-none-any.whl (5.6 MB)\n",
      "Using cached anyio-3.7.1-py3-none-any.whl (80 kB)\n",
      "Using cached apprise-1.7.4-py3-none-any.whl (1.2 MB)\n",
      "Using cached asgi_lifespan-2.1.0-py3-none-any.whl (10 kB)\n",
      "Using cached asyncpg-0.29.0-cp311-cp311-win_amd64.whl (543 kB)\n",
      "Using cached coolname-2.2.0-py2.py3-none-any.whl (37 kB)\n",
      "Using cached croniter-2.0.3-py2.py3-none-any.whl (20 kB)\n",
      "Using cached dateparser-1.2.0-py2.py3-none-any.whl (294 kB)\n",
      "Using cached docker-6.1.3-py3-none-any.whl (148 kB)\n",
      "Using cached graphviz-0.20.3-py3-none-any.whl (47 kB)\n",
      "Using cached griffe-0.42.1-py3-none-any.whl (118 kB)\n",
      "Using cached httpcore-1.0.5-py3-none-any.whl (77 kB)\n",
      "Using cached importlib_resources-6.1.3-py3-none-any.whl (34 kB)\n",
      "Using cached kubernetes-29.0.0-py2.py3-none-any.whl (1.6 MB)\n",
      "Using cached orjson-3.10.0-cp311-none-win_amd64.whl (139 kB)\n",
      "Using cached python_multipart-0.0.9-py3-none-any.whl (22 kB)\n",
      "Using cached readchar-4.0.6-py3-none-any.whl (8.5 kB)\n",
      "Using cached rich-13.7.1-py3-none-any.whl (240 kB)\n",
      "Using cached sniffio-1.3.1-py3-none-any.whl (10 kB)\n",
      "Using cached typer-0.11.1-py3-none-any.whl (43 kB)\n",
      "Using cached ujson-5.9.0-cp311-cp311-win_amd64.whl (41 kB)\n",
      "Using cached uvicorn-0.28.1-py3-none-any.whl (60 kB)\n",
      "Using cached websockets-12.0-cp311-cp311-win_amd64.whl (124 kB)\n",
      "Using cached async_timeout-4.0.3-py3-none-any.whl (5.7 kB)\n",
      "Using cached email_validator-2.1.1-py3-none-any.whl (30 kB)\n",
      "Using cached h11-0.14.0-py3-none-any.whl (58 kB)\n",
      "Using cached h2-4.1.0-py3-none-any.whl (57 kB)\n",
      "Using cached pytzdata-2020.1-py2.py3-none-any.whl (489 kB)\n",
      "Using cached httpx-0.27.0-py3-none-any.whl (75 kB)\n",
      "Using cached tzlocal-5.2-py3-none-any.whl (17 kB)\n",
      "Using cached dnspython-2.6.1-py3-none-any.whl (307 kB)\n",
      "Using cached hpack-4.0.0-py3-none-any.whl (32 kB)\n",
      "Using cached hyperframe-6.0.1-py3-none-any.whl (12 kB)\n",
      "Installing collected packages: coolname, websockets, ujson, tzlocal, sniffio, readchar, pytzdata, python-multipart, orjson, importlib-resources, hyperframe, hpack, h11, griffe, graphviz, dnspython, async-timeout, uvicorn, typer, rich, pendulum, httpcore, h2, email-validator, docker, dateparser, croniter, asyncpg, asgi-lifespan, anyio, kubernetes, httpx, apprise, prefect\n",
      "  Attempting uninstall: ujson\n",
      "    Found existing installation: ujson 5.4.0\n",
      "    Uninstalling ujson-5.4.0:\n",
      "      Successfully uninstalled ujson-5.4.0\n",
      "  Attempting uninstall: sniffio\n",
      "    Found existing installation: sniffio 1.2.0\n",
      "    Uninstalling sniffio-1.2.0:\n",
      "      Successfully uninstalled sniffio-1.2.0\n",
      "  Attempting uninstall: async-timeout\n",
      "    Found existing installation: async-timeout 4.0.2\n",
      "    Uninstalling async-timeout-4.0.2:\n",
      "      Successfully uninstalled async-timeout-4.0.2\n",
      "  Attempting uninstall: docker\n",
      "    Found existing installation: docker 7.0.0\n",
      "    Uninstalling docker-7.0.0:\n",
      "      Successfully uninstalled docker-7.0.0\n",
      "  Attempting uninstall: anyio\n",
      "    Found existing installation: anyio 3.5.0\n",
      "    Uninstalling anyio-3.5.0:\n",
      "      Successfully uninstalled anyio-3.5.0\n",
      "Successfully installed anyio-3.7.1 apprise-1.7.4 asgi-lifespan-2.1.0 async-timeout-4.0.3 asyncpg-0.29.0 coolname-2.2.0 croniter-2.0.3 dateparser-1.2.0 dnspython-2.6.1 docker-6.1.3 email-validator-2.1.1 graphviz-0.20.3 griffe-0.42.1 h11-0.14.0 h2-4.1.0 hpack-4.0.0 httpcore-1.0.5 httpx-0.27.0 hyperframe-6.0.1 importlib-resources-6.1.3 kubernetes-29.0.0 orjson-3.10.0 pendulum-2.1.2 prefect-2.16.7 python-multipart-0.0.9 pytzdata-2020.1 readchar-4.0.6 rich-13.7.1 sniffio-1.3.1 typer-0.11.1 tzlocal-5.2 ujson-5.9.0 uvicorn-0.28.1 websockets-12.0\n"
     ]
    }
   ],
   "source": [
    "!pip install prefect"
   ]
  },
  {
   "cell_type": "code",
   "execution_count": 141,
   "id": "563520a0",
   "metadata": {
    "scrolled": true
   },
   "outputs": [],
   "source": [
    "from prefect import task,flow"
   ]
  },
  {
   "cell_type": "code",
   "execution_count": 146,
   "id": "51076a1d",
   "metadata": {},
   "outputs": [],
   "source": [
    "@task(name=\"Data loading\")\n",
    "def load_data(file_path):\n",
    "    return pd.read_csv(file_path)\n",
    "\n",
    "\n",
    "@task(name=\"Identifying input and output\")\n",
    "def split_inputs_output(data, inputs, output):\n",
    "    X = data[inputs]\n",
    "    y = data[output]\n",
    "    return X, y\n",
    "\n",
    "@task(name=\"Splitting data into test and train\")\n",
    "def split_train_test(X, y, test_size=0.25, random_state=0):\n",
    "    return train_test_split(X, y, test_size=test_size, random_state=random_state)\n",
    "\n",
    "@task(name=\"Feature extraction of Text data\")\n",
    "def preprocess_data(X_train, X_test, y_train, y_test):\n",
    "    vocab = CountVectorizer()\n",
    "    X_train_bow = vocab.fit_transform(X_train[\"Review\"])\n",
    "    X_test_bow = vocab.transform(X_test[\"Review\"])\n",
    "    return X_train_bow, X_test_bow, y_train, y_test\n",
    "\n",
    "@task(name=\"Model training\")\n",
    "def train_model(X_train_bow, y_train, hyperparameters):\n",
    "    clf = DecisionTreeClassifier(**hyperparameters)\n",
    "    clf.fit(X_train_bow, y_train)\n",
    "    return clf\n",
    "\n",
    "@task(name=\"Evaluation of Model\")\n",
    "def evaluate_model(model, X_train_bow, y_train, X_test_bow, y_test):\n",
    "    y_train_pred = model.predict(X_train_bow)\n",
    "    y_test_pred = model.predict(X_test_bow)\n",
    "\n",
    "    train_score = metrics.accuracy_score(y_train, y_train_pred)\n",
    "    test_score = metrics.accuracy_score(y_test, y_test_pred)\n",
    "    \n",
    "    return train_score, test_score"
   ]
  },
  {
   "cell_type": "code",
   "execution_count": 147,
   "id": "17687d4e",
   "metadata": {},
   "outputs": [
    {
     "name": "stderr",
     "output_type": "stream",
     "text": [
      "C:\\Users\\Harsh\\anaconda3\\Lib\\site-packages\\prefect\\flows.py:357: UserWarning: A flow named 'Decision_Tree_2 Flow' and defined at 'C:\\Users\\Harsh\\AppData\\Local\\Temp\\ipykernel_23248\\1951831261.py:1' conflicts with another flow. Consider specifying a unique `name` parameter in the flow definition:\n",
      "\n",
      " `@flow(name='my_unique_name', ...)`\n",
      "  warnings.warn(\n"
     ]
    }
   ],
   "source": [
    "@flow(name=\"Decision_Tree_2 Flow\")\n",
    "def workflow():\n",
    "    DATA_PATH = \"output.csv\"\n",
    "    INPUTS = 'Review'\n",
    "    OUTPUT = 'sentiment'\n",
    "    HYPERPARAMETERS = {'max_depth': 10}\n",
    "    \n",
    "    # Load data\n",
    "    sentiment = load_data(DATA_PATH)\n",
    "    \n",
    "    # Identify Inputs and Output\n",
    "    X, y = split_inputs_output(sentiment, INPUTS, OUTPUT)\n",
    "    \n",
    "    # Split data into train and test sets\n",
    "    X_train, X_test, y_train, y_test = split_train_test(X, y)\n",
    "    X_train=pd.DataFrame(X_train)\n",
    "    X_test=pd.DataFrame(X_test)\n",
    "    y_train=pd.DataFrame(y_train)\n",
    "    y_test=pd.DataFrame(y_test)\n",
    "    null_indices_train= X_train[X_train['Review'].isnull()].index\n",
    "    X_train.drop(null_indices_train, inplace=True)\n",
    "    y_train.drop(null_indices_train, inplace=True)\n",
    "\n",
    "\n",
    "    null_indices_test= X_test[X_test['Review'].isnull()].index\n",
    "    X_test.drop(null_indices_test, inplace=True)\n",
    "    y_test.drop(null_indices_test,inplace=True)\n",
    "    X_train.reset_index(drop=True, inplace=True)\n",
    "    X_test.reset_index(drop=True, inplace=True)\n",
    "    y_train.reset_index(drop=True, inplace=True)\n",
    "    y_test.reset_index(drop=True, inplace=True)\n",
    "\n",
    "    #preprocessing of the data \n",
    "    X_train_bow, X_test_bow, y_train, y_test = preprocess_data(X_train, X_test, y_train, y_test)\n",
    "    \n",
    "    #model training based on decision tree algorithm\n",
    "    model = train_model(X_train_bow, y_train, HYPERPARAMETERS)\n",
    "    \n",
    "    #train and test score\n",
    "    train_score, test_score = evaluate_model(model, X_train_bow, y_train, X_test_bow, y_test)\n",
    "    \n",
    "    print(\"Train Score:\", train_score)\n",
    "    print(\"Test Score:\", test_score)\n"
   ]
  },
  {
   "cell_type": "code",
   "execution_count": 148,
   "id": "57d57c33",
   "metadata": {},
   "outputs": [
    {
     "data": {
      "text/html": [
       "<pre style=\"white-space:pre;overflow-x:auto;line-height:normal;font-family:Menlo,'DejaVu Sans Mono',consolas,'Courier New',monospace\">12:32:28.442 | <span style=\"color: #008080; text-decoration-color: #008080\">INFO</span>    | prefect.engine - Created flow run<span style=\"color: #800080; text-decoration-color: #800080\"> 'huge-pegasus'</span> for flow<span style=\"color: #800080; text-decoration-color: #800080; font-weight: bold\"> 'Decision_Tree_2 Flow'</span>\n",
       "</pre>\n"
      ],
      "text/plain": [
       "12:32:28.442 | \u001b[36mINFO\u001b[0m    | prefect.engine - Created flow run\u001b[35m 'huge-pegasus'\u001b[0m for flow\u001b[1;35m 'Decision_Tree_2 Flow'\u001b[0m\n"
      ]
     },
     "metadata": {},
     "output_type": "display_data"
    },
    {
     "data": {
      "text/html": [
       "<pre style=\"white-space:pre;overflow-x:auto;line-height:normal;font-family:Menlo,'DejaVu Sans Mono',consolas,'Courier New',monospace\">12:32:28.663 | <span style=\"color: #008080; text-decoration-color: #008080\">INFO</span>    | Flow run<span style=\"color: #800080; text-decoration-color: #800080\"> 'huge-pegasus'</span> - Created task run 'Data loading-0' for task 'Data loading'\n",
       "</pre>\n"
      ],
      "text/plain": [
       "12:32:28.663 | \u001b[36mINFO\u001b[0m    | Flow run\u001b[35m 'huge-pegasus'\u001b[0m - Created task run 'Data loading-0' for task 'Data loading'\n"
      ]
     },
     "metadata": {},
     "output_type": "display_data"
    },
    {
     "data": {
      "text/html": [
       "<pre style=\"white-space:pre;overflow-x:auto;line-height:normal;font-family:Menlo,'DejaVu Sans Mono',consolas,'Courier New',monospace\">12:32:28.663 | <span style=\"color: #008080; text-decoration-color: #008080\">INFO</span>    | Flow run<span style=\"color: #800080; text-decoration-color: #800080\"> 'huge-pegasus'</span> - Executing 'Data loading-0' immediately...\n",
       "</pre>\n"
      ],
      "text/plain": [
       "12:32:28.663 | \u001b[36mINFO\u001b[0m    | Flow run\u001b[35m 'huge-pegasus'\u001b[0m - Executing 'Data loading-0' immediately...\n"
      ]
     },
     "metadata": {},
     "output_type": "display_data"
    },
    {
     "data": {
      "text/html": [
       "<pre style=\"white-space:pre;overflow-x:auto;line-height:normal;font-family:Menlo,'DejaVu Sans Mono',consolas,'Courier New',monospace\">12:32:29.014 | <span style=\"color: #008080; text-decoration-color: #008080\">INFO</span>    | Task run 'Data loading-0' - Finished in state <span style=\"color: #008000; text-decoration-color: #008000\">Completed</span>()\n",
       "</pre>\n"
      ],
      "text/plain": [
       "12:32:29.014 | \u001b[36mINFO\u001b[0m    | Task run 'Data loading-0' - Finished in state \u001b[32mCompleted\u001b[0m()\n"
      ]
     },
     "metadata": {},
     "output_type": "display_data"
    },
    {
     "data": {
      "text/html": [
       "<pre style=\"white-space:pre;overflow-x:auto;line-height:normal;font-family:Menlo,'DejaVu Sans Mono',consolas,'Courier New',monospace\">12:32:29.096 | <span style=\"color: #008080; text-decoration-color: #008080\">INFO</span>    | Flow run<span style=\"color: #800080; text-decoration-color: #800080\"> 'huge-pegasus'</span> - Created task run 'Identifying input and output-0' for task 'Identifying input and output'\n",
       "</pre>\n"
      ],
      "text/plain": [
       "12:32:29.096 | \u001b[36mINFO\u001b[0m    | Flow run\u001b[35m 'huge-pegasus'\u001b[0m - Created task run 'Identifying input and output-0' for task 'Identifying input and output'\n"
      ]
     },
     "metadata": {},
     "output_type": "display_data"
    },
    {
     "data": {
      "text/html": [
       "<pre style=\"white-space:pre;overflow-x:auto;line-height:normal;font-family:Menlo,'DejaVu Sans Mono',consolas,'Courier New',monospace\">12:32:29.096 | <span style=\"color: #008080; text-decoration-color: #008080\">INFO</span>    | Flow run<span style=\"color: #800080; text-decoration-color: #800080\"> 'huge-pegasus'</span> - Executing 'Identifying input and output-0' immediately...\n",
       "</pre>\n"
      ],
      "text/plain": [
       "12:32:29.096 | \u001b[36mINFO\u001b[0m    | Flow run\u001b[35m 'huge-pegasus'\u001b[0m - Executing 'Identifying input and output-0' immediately...\n"
      ]
     },
     "metadata": {},
     "output_type": "display_data"
    },
    {
     "data": {
      "text/html": [
       "<pre style=\"white-space:pre;overflow-x:auto;line-height:normal;font-family:Menlo,'DejaVu Sans Mono',consolas,'Courier New',monospace\">12:32:29.325 | <span style=\"color: #008080; text-decoration-color: #008080\">INFO</span>    | Task run 'Identifying input and output-0' - Finished in state <span style=\"color: #008000; text-decoration-color: #008000\">Completed</span>()\n",
       "</pre>\n"
      ],
      "text/plain": [
       "12:32:29.325 | \u001b[36mINFO\u001b[0m    | Task run 'Identifying input and output-0' - Finished in state \u001b[32mCompleted\u001b[0m()\n"
      ]
     },
     "metadata": {},
     "output_type": "display_data"
    },
    {
     "data": {
      "text/html": [
       "<pre style=\"white-space:pre;overflow-x:auto;line-height:normal;font-family:Menlo,'DejaVu Sans Mono',consolas,'Courier New',monospace\">12:32:29.428 | <span style=\"color: #008080; text-decoration-color: #008080\">INFO</span>    | Flow run<span style=\"color: #800080; text-decoration-color: #800080\"> 'huge-pegasus'</span> - Created task run 'Splitting data into test and train-0' for task 'Splitting data into test and train'\n",
       "</pre>\n"
      ],
      "text/plain": [
       "12:32:29.428 | \u001b[36mINFO\u001b[0m    | Flow run\u001b[35m 'huge-pegasus'\u001b[0m - Created task run 'Splitting data into test and train-0' for task 'Splitting data into test and train'\n"
      ]
     },
     "metadata": {},
     "output_type": "display_data"
    },
    {
     "data": {
      "text/html": [
       "<pre style=\"white-space:pre;overflow-x:auto;line-height:normal;font-family:Menlo,'DejaVu Sans Mono',consolas,'Courier New',monospace\">12:32:29.428 | <span style=\"color: #008080; text-decoration-color: #008080\">INFO</span>    | Flow run<span style=\"color: #800080; text-decoration-color: #800080\"> 'huge-pegasus'</span> - Executing 'Splitting data into test and train-0' immediately...\n",
       "</pre>\n"
      ],
      "text/plain": [
       "12:32:29.428 | \u001b[36mINFO\u001b[0m    | Flow run\u001b[35m 'huge-pegasus'\u001b[0m - Executing 'Splitting data into test and train-0' immediately...\n"
      ]
     },
     "metadata": {},
     "output_type": "display_data"
    },
    {
     "data": {
      "text/html": [
       "<pre style=\"white-space:pre;overflow-x:auto;line-height:normal;font-family:Menlo,'DejaVu Sans Mono',consolas,'Courier New',monospace\">12:32:29.697 | <span style=\"color: #008080; text-decoration-color: #008080\">INFO</span>    | Task run 'Splitting data into test and train-0' - Finished in state <span style=\"color: #008000; text-decoration-color: #008000\">Completed</span>()\n",
       "</pre>\n"
      ],
      "text/plain": [
       "12:32:29.697 | \u001b[36mINFO\u001b[0m    | Task run 'Splitting data into test and train-0' - Finished in state \u001b[32mCompleted\u001b[0m()\n"
      ]
     },
     "metadata": {},
     "output_type": "display_data"
    },
    {
     "data": {
      "text/html": [
       "<pre style=\"white-space:pre;overflow-x:auto;line-height:normal;font-family:Menlo,'DejaVu Sans Mono',consolas,'Courier New',monospace\">12:32:29.795 | <span style=\"color: #008080; text-decoration-color: #008080\">INFO</span>    | Flow run<span style=\"color: #800080; text-decoration-color: #800080\"> 'huge-pegasus'</span> - Created task run 'Feature extraction of Text data-0' for task 'Feature extraction of Text data'\n",
       "</pre>\n"
      ],
      "text/plain": [
       "12:32:29.795 | \u001b[36mINFO\u001b[0m    | Flow run\u001b[35m 'huge-pegasus'\u001b[0m - Created task run 'Feature extraction of Text data-0' for task 'Feature extraction of Text data'\n"
      ]
     },
     "metadata": {},
     "output_type": "display_data"
    },
    {
     "data": {
      "text/html": [
       "<pre style=\"white-space:pre;overflow-x:auto;line-height:normal;font-family:Menlo,'DejaVu Sans Mono',consolas,'Courier New',monospace\">12:32:29.795 | <span style=\"color: #008080; text-decoration-color: #008080\">INFO</span>    | Flow run<span style=\"color: #800080; text-decoration-color: #800080\"> 'huge-pegasus'</span> - Executing 'Feature extraction of Text data-0' immediately...\n",
       "</pre>\n"
      ],
      "text/plain": [
       "12:32:29.795 | \u001b[36mINFO\u001b[0m    | Flow run\u001b[35m 'huge-pegasus'\u001b[0m - Executing 'Feature extraction of Text data-0' immediately...\n"
      ]
     },
     "metadata": {},
     "output_type": "display_data"
    },
    {
     "data": {
      "text/html": [
       "<pre style=\"white-space:pre;overflow-x:auto;line-height:normal;font-family:Menlo,'DejaVu Sans Mono',consolas,'Courier New',monospace\">12:32:30.163 | <span style=\"color: #008080; text-decoration-color: #008080\">INFO</span>    | Task run 'Feature extraction of Text data-0' - Finished in state <span style=\"color: #008000; text-decoration-color: #008000\">Completed</span>()\n",
       "</pre>\n"
      ],
      "text/plain": [
       "12:32:30.163 | \u001b[36mINFO\u001b[0m    | Task run 'Feature extraction of Text data-0' - Finished in state \u001b[32mCompleted\u001b[0m()\n"
      ]
     },
     "metadata": {},
     "output_type": "display_data"
    },
    {
     "data": {
      "text/html": [
       "<pre style=\"white-space:pre;overflow-x:auto;line-height:normal;font-family:Menlo,'DejaVu Sans Mono',consolas,'Courier New',monospace\">12:32:30.294 | <span style=\"color: #008080; text-decoration-color: #008080\">INFO</span>    | Flow run<span style=\"color: #800080; text-decoration-color: #800080\"> 'huge-pegasus'</span> - Created task run 'Model training-0' for task 'Model training'\n",
       "</pre>\n"
      ],
      "text/plain": [
       "12:32:30.294 | \u001b[36mINFO\u001b[0m    | Flow run\u001b[35m 'huge-pegasus'\u001b[0m - Created task run 'Model training-0' for task 'Model training'\n"
      ]
     },
     "metadata": {},
     "output_type": "display_data"
    },
    {
     "data": {
      "text/html": [
       "<pre style=\"white-space:pre;overflow-x:auto;line-height:normal;font-family:Menlo,'DejaVu Sans Mono',consolas,'Courier New',monospace\">12:32:30.294 | <span style=\"color: #008080; text-decoration-color: #008080\">INFO</span>    | Flow run<span style=\"color: #800080; text-decoration-color: #800080\"> 'huge-pegasus'</span> - Executing 'Model training-0' immediately...\n",
       "</pre>\n"
      ],
      "text/plain": [
       "12:32:30.294 | \u001b[36mINFO\u001b[0m    | Flow run\u001b[35m 'huge-pegasus'\u001b[0m - Executing 'Model training-0' immediately...\n"
      ]
     },
     "metadata": {},
     "output_type": "display_data"
    },
    {
     "data": {
      "text/html": [
       "<pre style=\"white-space:pre;overflow-x:auto;line-height:normal;font-family:Menlo,'DejaVu Sans Mono',consolas,'Courier New',monospace\">12:32:30.683 | <span style=\"color: #008080; text-decoration-color: #008080\">INFO</span>    | Task run 'Model training-0' - Finished in state <span style=\"color: #008000; text-decoration-color: #008000\">Completed</span>()\n",
       "</pre>\n"
      ],
      "text/plain": [
       "12:32:30.683 | \u001b[36mINFO\u001b[0m    | Task run 'Model training-0' - Finished in state \u001b[32mCompleted\u001b[0m()\n"
      ]
     },
     "metadata": {},
     "output_type": "display_data"
    },
    {
     "data": {
      "text/html": [
       "<pre style=\"white-space:pre;overflow-x:auto;line-height:normal;font-family:Menlo,'DejaVu Sans Mono',consolas,'Courier New',monospace\">12:32:30.857 | <span style=\"color: #008080; text-decoration-color: #008080\">INFO</span>    | Flow run<span style=\"color: #800080; text-decoration-color: #800080\"> 'huge-pegasus'</span> - Created task run 'Evaluation of Model-0' for task 'Evaluation of Model'\n",
       "</pre>\n"
      ],
      "text/plain": [
       "12:32:30.857 | \u001b[36mINFO\u001b[0m    | Flow run\u001b[35m 'huge-pegasus'\u001b[0m - Created task run 'Evaluation of Model-0' for task 'Evaluation of Model'\n"
      ]
     },
     "metadata": {},
     "output_type": "display_data"
    },
    {
     "data": {
      "text/html": [
       "<pre style=\"white-space:pre;overflow-x:auto;line-height:normal;font-family:Menlo,'DejaVu Sans Mono',consolas,'Courier New',monospace\">12:32:30.859 | <span style=\"color: #008080; text-decoration-color: #008080\">INFO</span>    | Flow run<span style=\"color: #800080; text-decoration-color: #800080\"> 'huge-pegasus'</span> - Executing 'Evaluation of Model-0' immediately...\n",
       "</pre>\n"
      ],
      "text/plain": [
       "12:32:30.859 | \u001b[36mINFO\u001b[0m    | Flow run\u001b[35m 'huge-pegasus'\u001b[0m - Executing 'Evaluation of Model-0' immediately...\n"
      ]
     },
     "metadata": {},
     "output_type": "display_data"
    },
    {
     "data": {
      "text/html": [
       "<pre style=\"white-space:pre;overflow-x:auto;line-height:normal;font-family:Menlo,'DejaVu Sans Mono',consolas,'Courier New',monospace\">12:32:31.113 | <span style=\"color: #008080; text-decoration-color: #008080\">INFO</span>    | Task run 'Evaluation of Model-0' - Finished in state <span style=\"color: #008000; text-decoration-color: #008000\">Completed</span>()\n",
       "</pre>\n"
      ],
      "text/plain": [
       "12:32:31.113 | \u001b[36mINFO\u001b[0m    | Task run 'Evaluation of Model-0' - Finished in state \u001b[32mCompleted\u001b[0m()\n"
      ]
     },
     "metadata": {},
     "output_type": "display_data"
    },
    {
     "name": "stdout",
     "output_type": "stream",
     "text": [
      "Train Score: 0.868317918168992\n",
      "Test Score: 0.848142924306535\n"
     ]
    },
    {
     "data": {
      "text/html": [
       "<pre style=\"white-space:pre;overflow-x:auto;line-height:normal;font-family:Menlo,'DejaVu Sans Mono',consolas,'Courier New',monospace\">12:32:31.228 | <span style=\"color: #008080; text-decoration-color: #008080\">INFO</span>    | Flow run<span style=\"color: #800080; text-decoration-color: #800080\"> 'huge-pegasus'</span> - Finished in state <span style=\"color: #008000; text-decoration-color: #008000\">Completed</span>('All states completed.')\n",
       "</pre>\n"
      ],
      "text/plain": [
       "12:32:31.228 | \u001b[36mINFO\u001b[0m    | Flow run\u001b[35m 'huge-pegasus'\u001b[0m - Finished in state \u001b[32mCompleted\u001b[0m('All states completed.')\n"
      ]
     },
     "metadata": {},
     "output_type": "display_data"
    }
   ],
   "source": [
    "if __name__ == \"__main__\":\n",
    "    workflow()"
   ]
  },
  {
   "cell_type": "code",
   "execution_count": null,
   "id": "cfe2ab83",
   "metadata": {},
   "outputs": [],
   "source": []
  },
  {
   "cell_type": "code",
   "execution_count": null,
   "id": "23f1c72c",
   "metadata": {},
   "outputs": [],
   "source": []
  }
 ],
 "metadata": {
  "kernelspec": {
   "display_name": "Python 3 (ipykernel)",
   "language": "python",
   "name": "python3"
  },
  "language_info": {
   "codemirror_mode": {
    "name": "ipython",
    "version": 3
   },
   "file_extension": ".py",
   "mimetype": "text/x-python",
   "name": "python",
   "nbconvert_exporter": "python",
   "pygments_lexer": "ipython3",
   "version": "3.11.5"
  }
 },
 "nbformat": 4,
 "nbformat_minor": 5
}
